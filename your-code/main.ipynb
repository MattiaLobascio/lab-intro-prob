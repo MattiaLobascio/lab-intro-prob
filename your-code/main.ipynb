{
 "cells": [
  {
   "cell_type": "markdown",
   "metadata": {},
   "source": [
    "# Introduction To Probability\n",
    "## Challenge 1\n",
    "\n",
    "A and B are events of a probability space with $(\\omega, \\sigma, P)$ such that $P(A) = 0.3$, $P(B) = 0.6$ and $P(A \\cap B) = 0.1$\n",
    "\n",
    "Which of the following statements are false?\n",
    "* $P(A \\cup B) = 0.6$\n",
    "* $P(A \\cap B^{C}) = 0.2$\n",
    "* $P(A \\cap (B \\cup B^{C})) = 0.4$\n",
    "* $P(A^{C} \\cap B^{C}) = 0.3$\n",
    "* $P((A \\cap B)^{C}) = 0.9$"
   ]
  },
  {
   "cell_type": "markdown",
   "metadata": {},
   "source": [
    "\n",
    "* $P(A \\cup B) = 0.6$   FALSE = 0.8  \n",
    "* $P(A \\cap B^{C}) = 0.2$  TRUE\n",
    "* $P(A \\cap (B \\cup B^{C})) = 0.4$   FALSE = 0.3\n",
    "* $P(A^{C} \\cap B^{C}) = 0.3$  FALSE = 0.2\n",
    "* $P((A \\cap B)^{C}) = 0.9$  TRUE"
   ]
  },
  {
   "cell_type": "markdown",
   "metadata": {},
   "source": [
    "## Challenge 2\n",
    "There is a box with 10 white balls, 12 red balls and 8 black balls. Calculate the probability of:\n",
    "* Taking a white ball out.\n",
    "* Taking a white ball out after taking a black ball out.\n",
    "* Taking a red ball out after taking a black and a red ball out.\n",
    "* Taking a red ball out after taking a black and a red ball out with reposition.\n",
    "\n",
    "**Hint**: Reposition means putting back the ball into the box after taking it out."
   ]
  },
  {
   "cell_type": "code",
   "execution_count": 4,
   "metadata": {},
   "outputs": [
    {
     "name": "stdout",
     "output_type": "stream",
     "text": [
      "white out 0.3333333333333333\n",
      "white after black 0.09195402298850575\n",
      "red after black after red 0.043349753694581286\n",
      "red after black after red with reposition 0.042666666666666665\n"
     ]
    }
   ],
   "source": [
    "\n",
    "print(\"white out\", 10/30)\n",
    "print(\"white after black\", 8/30 * 10/29)\n",
    "print(\"red after black after red\", 12/30 * 8/29 * 11/28)\n",
    "print(\"red after black after red with reposition\", 12/30 * 8/30 * 12/30)"
   ]
  },
  {
   "cell_type": "markdown",
   "metadata": {},
   "source": [
    "## Challenge 3\n",
    "\n",
    "You are planning to go on a picnic today but the morning is cloudy. You hate rain so you don't know whether to go out or stay home! To help you make a decision, you gather the following data about rainy days:\n",
    "\n",
    "* 50% of all rainy days start off cloudy!\n",
    "* Cloudy mornings are common. About 40% of days start cloudy. \n",
    "* This month is usually dry so only 3 of 30 days (10%) tend to be rainy. \n",
    "\n",
    "What is the chance of rain during the day?"
   ]
  },
  {
   "cell_type": "code",
   "execution_count": null,
   "metadata": {},
   "outputs": [],
   "source": [
    "\"\"\"\n",
    "P(Cloudy|Rain) = 50%\n",
    "P(Cloudy) = 40%\n",
    "P(Rain) = 10%\n",
    "\n",
    "Bayes theorem:\n",
    "P(Rain|Cloudy) = P(Cloudy|Rain)*P(Rain) / P(Cloudy) = 12.5%\n",
    "\n",
    "\"\"\""
   ]
  },
  {
   "cell_type": "markdown",
   "metadata": {},
   "source": [
    "## Challenge 4\n",
    "\n",
    "One thousand people were asked through a telephone survey whether they thought more street lighting is needed at night or not.\n",
    "\n",
    "Out of the 480 men that answered the survey, 324 said yes and 156 said no. On the other hand, out of the 520 women that answered, 351 said yes and 169 said no. \n",
    "\n",
    "We wonder if men and women have a different opinions about the street lighting matter. Is gender relevant or irrelevant to the question?\n",
    "\n",
    "Consider the following events:\n",
    "- The answer is yes, so the person that answered thinks that more street lighting is needed.\n",
    "- The person who answered is a man.\n",
    "\n",
    "We want to know if these events are independent, that is, if the fact of wanting more light depends on whether one is male or female. Are these events independent or not?\n",
    "\n",
    "**Hint**: To clearly compare the answers by gender, it is best to place the data in a table."
   ]
  },
  {
   "cell_type": "code",
   "execution_count": 32,
   "metadata": {},
   "outputs": [
    {
     "data": {
      "text/html": [
       "<div>\n",
       "<style scoped>\n",
       "    .dataframe tbody tr th:only-of-type {\n",
       "        vertical-align: middle;\n",
       "    }\n",
       "\n",
       "    .dataframe tbody tr th {\n",
       "        vertical-align: top;\n",
       "    }\n",
       "\n",
       "    .dataframe thead th {\n",
       "        text-align: right;\n",
       "    }\n",
       "</style>\n",
       "<table border=\"1\" class=\"dataframe\">\n",
       "  <thead>\n",
       "    <tr style=\"text-align: right;\">\n",
       "      <th></th>\n",
       "      <th>YES</th>\n",
       "      <th>NO</th>\n",
       "      <th>TOT</th>\n",
       "    </tr>\n",
       "  </thead>\n",
       "  <tbody>\n",
       "    <tr>\n",
       "      <th>MAN</th>\n",
       "      <td>324</td>\n",
       "      <td>156</td>\n",
       "      <td>480</td>\n",
       "    </tr>\n",
       "    <tr>\n",
       "      <th>WOMAN</th>\n",
       "      <td>351</td>\n",
       "      <td>169</td>\n",
       "      <td>520</td>\n",
       "    </tr>\n",
       "  </tbody>\n",
       "</table>\n",
       "</div>"
      ],
      "text/plain": [
       "       YES   NO  TOT\n",
       "MAN    324  156  480\n",
       "WOMAN  351  169  520"
      ]
     },
     "execution_count": 32,
     "metadata": {},
     "output_type": "execute_result"
    }
   ],
   "source": [
    "# your code here\n",
    "import pandas as pd\n",
    "import numpy as np\n",
    "\n",
    "men = np.array([324,156,480])\n",
    "women = np.array([351,169,520])\n",
    "t = pd.DataFrame((men,women),[\"MAN\",\"WOMAN\"],[\"YES\",\"NO\",\"TOT\"])\n",
    "t"
   ]
  },
  {
   "cell_type": "code",
   "execution_count": 33,
   "metadata": {},
   "outputs": [
    {
     "name": "stdout",
     "output_type": "stream",
     "text": [
      "P(MAN|YES):  0.48\n",
      "P(MAN):  0.48\n",
      "P(YES|MAN):  0.675\n",
      "P(YES):  0.675\n"
     ]
    }
   ],
   "source": [
    "print(\"P(MAN|YES): \", (t[\"YES\"].loc[\"MAN\"])/((t[\"YES\"].loc[\"MAN\"])+(t[\"YES\"].loc[\"WOMAN\"]))) \n",
    "print(\"P(MAN): \", (t[\"TOT\"].loc[\"MAN\"])/((t[\"TOT\"].loc[\"MAN\"])+(t[\"TOT\"].loc[\"WOMAN\"])))\n",
    "print(\"P(YES|MAN): \", (t[\"YES\"].loc[\"MAN\"])/(t[\"TOT\"].loc[\"MAN\"])) \n",
    "print(\"P(YES): \", ((t[\"YES\"].loc[\"MAN\"])+(t[\"YES\"].loc[\"WOMAN\"]))/((t[\"TOT\"].loc[\"MAN\"])+(t[\"TOT\"].loc[\"WOMAN\"])))"
   ]
  },
  {
   "cell_type": "code",
   "execution_count": 34,
   "metadata": {},
   "outputs": [
    {
     "data": {
      "text/plain": [
       "'\\nSince the conditioned probability of being a MAN if the response is YES, is = to the \\nprobability of the respondent being a MAN, the 2 events are independent.\\n\\nThe same can be seen the other way around, looking at the conditioned probability of \\nresponding YES if the responder is a MAN, which is = to the TOTAL probability of responding YES.\\n'"
      ]
     },
     "execution_count": 34,
     "metadata": {},
     "output_type": "execute_result"
    }
   ],
   "source": [
    "\"\"\"\n",
    "Since the conditioned probability of being a MAN if the response is YES, is = to the \n",
    "probability of the respondent being a MAN, the 2 events are independent.\n",
    "\n",
    "The same can be seen the other way around, looking at the conditioned probability of \n",
    "responding YES if the responder is a MAN, which is = to the TOTAL probability of responding YES.\n",
    "\"\"\""
   ]
  }
 ],
 "metadata": {
  "kernelspec": {
   "display_name": "Python 3",
   "language": "python",
   "name": "python3"
  },
  "language_info": {
   "codemirror_mode": {
    "name": "ipython",
    "version": 3
   },
   "file_extension": ".py",
   "mimetype": "text/x-python",
   "name": "python",
   "nbconvert_exporter": "python",
   "pygments_lexer": "ipython3",
   "version": "3.6.8"
  }
 },
 "nbformat": 4,
 "nbformat_minor": 2
}
